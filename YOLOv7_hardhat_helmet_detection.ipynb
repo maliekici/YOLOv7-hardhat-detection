{
  "nbformat": 4,
  "nbformat_minor": 0,
  "metadata": {
    "colab": {
      "provenance": [],
      "authorship_tag": "ABX9TyNJaAx8dtt/RjMFZGO5Q5n7",
      "include_colab_link": true
    },
    "kernelspec": {
      "name": "python3",
      "display_name": "Python 3"
    },
    "language_info": {
      "name": "python"
    },
    "accelerator": "GPU",
    "gpuClass": "standard"
  },
  "cells": [
    {
      "cell_type": "markdown",
      "metadata": {
        "id": "view-in-github",
        "colab_type": "text"
      },
      "source": [
        "<a href=\"https://colab.research.google.com/github/maliekici/YOLOv7-hardhat-detection/blob/main/YOLOv7_hardhat_helmet_detection.ipynb\" target=\"_parent\"><img src=\"https://colab.research.google.com/assets/colab-badge.svg\" alt=\"Open In Colab\"/></a>"
      ]
    },
    {
      "cell_type": "code",
      "source": [
        "#connect the drive\n",
        "from google.colab import drive\n",
        "drive.mount(\"/content/gdrive\")"
      ],
      "metadata": {
        "colab": {
          "base_uri": "https://localhost:8080/"
        },
        "id": "ZWfS2Tl9crCF",
        "outputId": "b75e60a2-6faf-489d-d955-106670122536"
      },
      "execution_count": 8,
      "outputs": [
        {
          "output_type": "stream",
          "name": "stdout",
          "text": [
            "Drive already mounted at /content/gdrive; to attempt to forcibly remount, call drive.mount(\"/content/gdrive\", force_remount=True).\n"
          ]
        }
      ]
    },
    {
      "cell_type": "markdown",
      "source": [
        "#Training Model"
      ],
      "metadata": {
        "id": "-PEUHvdBGjXG"
      }
    },
    {
      "cell_type": "code",
      "source": [
        "#this is my project path I create this.\n",
        "%cd /content/gdrive/MyDrive/computer-vision-projects/YOLO-Projects/YOLOv7-hardhad-helmet-detection"
      ],
      "metadata": {
        "colab": {
          "base_uri": "https://localhost:8080/"
        },
        "id": "3gx-ZeLGhf-G",
        "outputId": "5b734a49-5902-4e86-a498-0b5b49484f3b"
      },
      "execution_count": null,
      "outputs": [
        {
          "output_type": "stream",
          "name": "stdout",
          "text": [
            "/content/gdrive/MyDrive/computer-vision-projects/YOLO Projects/YOLOv7-hardhad-helmet-detection\n"
          ]
        }
      ]
    },
    {
      "cell_type": "code",
      "source": [
        "#I unzip the data that I uploaded to my computer beforehand and then dumped it to colab.\n",
        "!unzip \"/content/gdrive/MyDrive/computer-vision-projects/YOLO-Projects/YOLOv7-hardhad-helmet-detection/Hard Hat Workers.v2-raw.yolov7pytorch (2).zip\""
      ],
      "metadata": {
        "id": "aBCuG1-_crpB"
      },
      "execution_count": null,
      "outputs": []
    },
    {
      "cell_type": "code",
      "source": [
        "#to make sure I'm in the correct directory.\n",
        "%cd /content/gdrive/MyDrive/computer-vision-projects/YOLO-Projects/YOLOv7-hardhad-helmet-detection\n",
        "#I'm downloading the yolov7 model from its original repo.\n",
        "!git clone https://github.com/WongKinYiu/yolov7.git\n",
        "#I went inside the directory where I downloaded the yolov7.\n",
        "%cd /content/gdrive/MyDrive/computer-vision-projects/YOLO-Projects/YOLOv7-hardhad-helmet-detection/yolov7\n",
        "#I'm downloading the requirements.\n",
        "!pip install -r requirements.txt\n",
        "#download pretrained weigths from original yolov7 repo\n",
        "!wget https://github.com/WongKinYiu/yolov7/releases/download/v0.1/yolov7.pt"
      ],
      "metadata": {
        "id": "dRKrBWuBcrt0"
      },
      "execution_count": null,
      "outputs": []
    },
    {
      "cell_type": "code",
      "source": [
        "#I'm verifying that I'm in the directory.\n",
        "%cd /content/gdrive/MyDrive/computer-vision-projects/YOLO-Projects/YOLOv7-hardhad-helmet-detection/yolov7"
      ],
      "metadata": {
        "colab": {
          "base_uri": "https://localhost:8080/"
        },
        "id": "BDzcT4qxiEw9",
        "outputId": "bdd390ce-6429-48ed-8987-6b7673aaee66"
      },
      "execution_count": null,
      "outputs": [
        {
          "output_type": "stream",
          "name": "stdout",
          "text": [
            "/content/gdrive/MyDrive/computer-vision-projects/YOLO Projects/YOLOv7-hardhad-helmet-detection/yolov7\n"
          ]
        }
      ]
    },
    {
      "cell_type": "code",
      "source": [
        "#run the train.py for fine-tununig process for my pretrained weights\n",
        "!python train.py --weights yolov7.pt --data \"data/data.yaml\" --workers 4 --batch-size 16 --img 416 --cfg cfg/training/yolov7.yaml --name yolov7 --epochs 2 --hyp data/hyp.scratch.p5.yaml"
      ],
      "metadata": {
        "id": "mcDLak5OcrwK"
      },
      "execution_count": null,
      "outputs": []
    },
    {
      "cell_type": "markdown",
      "source": [
        "#Testing"
      ],
      "metadata": {
        "id": "giuxR4TYGoKm"
      }
    },
    {
      "cell_type": "code",
      "source": [
        "%cd /content/gdrive/MyDrive/computer-vision-projects/YOLO Projects/YOLOv7-hardhad-helmet-detection/yolov7"
      ],
      "metadata": {
        "colab": {
          "base_uri": "https://localhost:8080/"
        },
        "id": "ZKVMXqiKGc5p",
        "outputId": "1bf36997-1330-45dc-8287-9313721d32e6"
      },
      "execution_count": null,
      "outputs": [
        {
          "output_type": "stream",
          "name": "stdout",
          "text": [
            "/content/gdrive/MyDrive/computer-vision-projects/YOLO Projects/YOLOv7-hardhad-helmet-detection/yolov7\n"
          ]
        }
      ]
    },
    {
      "cell_type": "code",
      "source": [
        "#run test.py for testing my model on my downloaded data\n",
        "!python test.py --data data/data.yaml --img 416 --batch 32 --conf 0.36 --iou 0.65 --device 0 --weights runs/train/yolov72/weights/best.pt --name yolov7_416_val"
      ],
      "metadata": {
        "id": "67DqyghDGyN_"
      },
      "execution_count": null,
      "outputs": []
    },
    {
      "cell_type": "code",
      "source": [
        "#Testing on images I found on the internet.\n",
        "!python detect.py --weights runs/train/yolov72/weights/best.pt --img 416 --source \"hardhat.jpg\""
      ],
      "metadata": {
        "id": "f32e6INvM47a"
      },
      "execution_count": null,
      "outputs": []
    },
    {
      "cell_type": "code",
      "source": [
        "!python detect.py --weights yolov7.pt --img 416 --source \"hardhat.jpg\""
      ],
      "metadata": {
        "id": "loNiO5KiTX25"
      },
      "execution_count": null,
      "outputs": []
    }
  ]
}